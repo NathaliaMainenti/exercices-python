{
 "cells": [
  {
   "cell_type": "markdown",
   "metadata": {},
   "source": [
    "EXERCÍCIOS ESTRUTURA SEQUENCIAL PYTHON"
   ]
  },
  {
   "cell_type": "markdown",
   "metadata": {},
   "source": [
    "1) Faça um Programa que mostre a mensagem \"Alo mundo\" na tela."
   ]
  },
  {
   "cell_type": "code",
   "execution_count": null,
   "metadata": {},
   "outputs": [],
   "source": [
    "print(\"Alo mundo\")"
   ]
  },
  {
   "cell_type": "markdown",
   "metadata": {},
   "source": [
    "2) Faça um Programa que peça um número e então mostre a mensagem o número informado foi [número]."
   ]
  },
  {
   "cell_type": "code",
   "execution_count": null,
   "metadata": {},
   "outputs": [],
   "source": [
    "a = int(input(\"Insira um número:\"))\n",
    "print(\"O número informado é o \", a)"
   ]
  },
  {
   "cell_type": "markdown",
   "metadata": {},
   "source": [
    "3) Faça um Programa que peça dois números e imprima a soma."
   ]
  },
  {
   "cell_type": "code",
   "execution_count": null,
   "metadata": {},
   "outputs": [],
   "source": [
    "numero_1 = int(input(\"Insira o primeiro número: \"))\n",
    "numero_2 = int(input(\"Insira o segundo número: \"))\n",
    "soma_numeros = numero_1 + numero_2\n",
    "print(\"A soma dos números é: \", soma_numeros)"
   ]
  },
  {
   "cell_type": "markdown",
   "metadata": {},
   "source": [
    "4) Faça um Programa que peça as 4 notas bimestrais e mostre a média."
   ]
  },
  {
   "cell_type": "code",
   "execution_count": null,
   "metadata": {},
   "outputs": [],
   "source": [
    "nota_1 = int(input(\"Insira a primeira nota: \"))\n",
    "nota_2 = int(input(\"Insira a segunda nota: \"))\n",
    "nota_3 = int(input(\"Insira a terceira nota: \"))\n",
    "nota_4 = int(input(\"Insira a quarta nota: \"))\n",
    "media_das_notas = (nota_1+nota_2+nota_3+nota_4)/4\n",
    "print(\"A média bimestral é igual a\", media_das_notas)"
   ]
  },
  {
   "cell_type": "markdown",
   "metadata": {},
   "source": [
    "5) Faça um Programa que converta metros para centímetros."
   ]
  },
  {
   "cell_type": "code",
   "execution_count": null,
   "metadata": {},
   "outputs": [],
   "source": [
    "numero_em_metros = int(input(\"Digite o número em metros:\"))\n",
    "conversao_centimetros = numero_em_metros * 100\n",
    "print(\"O número em centímetros é igual a: \", conversao_centimetros)"
   ]
  },
  {
   "cell_type": "markdown",
   "metadata": {},
   "source": [
    "6) Faça um Programa que peça o raio de um círculo, calcule e mostre sua área."
   ]
  },
  {
   "cell_type": "code",
   "execution_count": null,
   "metadata": {},
   "outputs": [],
   "source": [
    "raio = float(input(\"Insira o raio: \"))\n",
    "area_circulo = 3.14 * raio ** 2 \n",
    "print(\"A área é igual a: \", area_circulo)"
   ]
  },
  {
   "cell_type": "markdown",
   "metadata": {},
   "source": [
    "7) Faça um Programa que calcule a área de um quadrado, em seguida mostre o dobro desta área para o usuário."
   ]
  },
  {
   "cell_type": "code",
   "execution_count": null,
   "metadata": {},
   "outputs": [],
   "source": [
    "lado_quadrado = int(input(\"Insira o lado do quadrado: \"))\n",
    "dobro_area_quadrado = 2* lado_quadrado ** 2 \n",
    "print(\"O dobro da área do quadrado é igual a: \", dobro_area_quadrado)"
   ]
  },
  {
   "cell_type": "markdown",
   "metadata": {},
   "source": [
    "8) Faça um Programa que pergunte quanto você ganha por hora e o número de horas trabalhadas no mês. Calcule e mostre o total do seu salário no referido mês."
   ]
  },
  {
   "cell_type": "code",
   "execution_count": null,
   "metadata": {},
   "outputs": [],
   "source": [
    "valor_hora = float(input(\"Qual é o valor da sua hora trabalhada? \"))\n",
    "horas_trabalhadas = int(input(\"Quantas horas foram trabalhadas? \"))\n",
    "salario_no_mes = valor_hora * horas_trabalhadas\n",
    "print(\"O seu salário mensal foi de \", salario_no_mes)"
   ]
  },
  {
   "cell_type": "markdown",
   "metadata": {},
   "source": [
    "9) Faça um Programa que peça a temperatura em graus Fahrenheit, transforme e mostre a temperatura em graus Celsius.\n",
    "- C = 5 * ((F-32) / 9)."
   ]
  },
  {
   "cell_type": "code",
   "execution_count": null,
   "metadata": {},
   "outputs": [],
   "source": [
    "temperatura_fahrenheit = float(input(\"Qual é a temperatura em ahrenheit ? \"))\n",
    "temperatura_celsius = 5 * ((temperatura_fahrenheit-32) / 9)\n",
    "print(\"A temperatura em celsius é igual a \", temperatura_celsius)"
   ]
  },
  {
   "cell_type": "markdown",
   "metadata": {},
   "source": [
    "10) Faça um Programa que peça a temperatura em graus Celsius, transforme e mostre em graus Fahrenheit."
   ]
  },
  {
   "cell_type": "code",
   "execution_count": null,
   "metadata": {},
   "outputs": [],
   "source": [
    "temperatura_celsius_2= float(input(\"Insira o a temperatura em celsius: \"))\n",
    "temperatura_fahrenheit_2 = temperatura_celsius_2/5/9+32\n",
    "print(\"A temperatura em fahrenheit é igual a\", temperatura_fahrenheit_2)"
   ]
  },
  {
   "cell_type": "markdown",
   "metadata": {},
   "source": [
    "11) Faça um Programa que peça 2 números inteiros e um número real. Calcule e mostre:\n",
    "- a) o produto do dobro do primeiro com metade do segundo .\n",
    "- b) a soma do triplo do primeiro com o terceiro.\n",
    "- c) o terceiro elevado ao cubo."
   ]
  },
  {
   "cell_type": "code",
   "execution_count": null,
   "metadata": {},
   "outputs": [],
   "source": [
    "numero_inteiro_1 = int(input(\"Insira o primeiro número inteiro: \"))\n",
    "numero_inteiro_2 = int(input(\"Insira o segundo número inteiro: \"))\n",
    "numero_real = float(input(\"Insira o número real: \"))\n",
    "a = (2 * numero_inteiro_1) * (numero_inteiro_2/2)\n",
    "b = (3 * numero_inteiro_1) + numero_real\n",
    "c = numero_real ** 3\n",
    "print(\"o produto do dobro do primeiro com metade do segundo é \", a, \" e a soma do triplo do primeiro com o terceiro é \", b, \" e o terceiro elevado ao cubo é \", c )"
   ]
  },
  {
   "cell_type": "markdown",
   "metadata": {},
   "source": [
    "12) Tendo como dados de entrada a altura de uma pessoa, construa um algoritmo que calcule seu peso ideal, usando a seguinte fórmula: \n",
    "- (72.7*altura) - 58"
   ]
  },
  {
   "cell_type": "code",
   "execution_count": null,
   "metadata": {},
   "outputs": [],
   "source": [
    "altura_pessoa = float(input(\"Insira a altura da pessoa: \"))\n",
    "peso_ideal =(72.7*altura_pessoa) - 58\n",
    "print(\"O peso ideal é igual a: \", peso_ideal)"
   ]
  },
  {
   "cell_type": "markdown",
   "metadata": {},
   "source": [
    "13) Tendo como dado de entrada a altura (h) de uma pessoa, construa um algoritmo que calcule seu peso ideal, utilizando as seguintes fórmulas:\n",
    "-  Para homens: (72.7*h) - 58\n",
    "-  Para mulheres: (62.1*h) - 44.7"
   ]
  },
  {
   "cell_type": "code",
   "execution_count": null,
   "metadata": {},
   "outputs": [],
   "source": [
    "altura_pessoa_2 = float(input(\"Insira a altura da pessoa: \"))\n",
    "peso_ideal_homem = (72.7*altura_pessoa_2) - 58\n",
    "peso_ideal_mulher = (62.1*altura_pessoa_2) - 44.7\n",
    "print(\"A altura ideal para homem é \", peso_ideal_homem, \" kg e o peso idal para mulher é \", peso_ideal_mulher \" kg.\")"
   ]
  },
  {
   "cell_type": "markdown",
   "metadata": {},
   "source": [
    "14) João Papo-de-Pescador, homem de bem, comprou um microcomputador para controlar o rendimento diário de seu trabalho. Toda vez que ele traz um peso de peixes maior que o estabelecido pelo regulamento de pesca do estado de São Paulo (50 quilos) deve pagar uma multa de R$ 4,00 por quilo excedente. João precisa que você faça um programa que leia a variável peso (peso de peixes) e calcule o excesso. Gravar na variável excesso a quantidade de quilos além do limite e na variável multa o valor da multa que João deverá pagar. Imprima os dados do programa com as mensagens adequadas."
   ]
  },
  {
   "cell_type": "code",
   "execution_count": null,
   "metadata": {},
   "outputs": [],
   "source": [
    "peso_peixe = float(input(\"Insira a quantidade de peixe em quilos: \"))\n",
    "if peso_peixe > 50:\n",
    "    excesso = peso_peixe - 50\n",
    "    multa = 4 * excesso\n",
    "    print(\"O excesso é de \", excesso, \"quilos.\")\n",
    "    print(\"A multa é de R$ \", multa, \".\")\n",
    "else:\n",
    "    print(\"O peso é inferior ou igual a 50, portanto, não há multa.\")"
   ]
  },
  {
   "cell_type": "markdown",
   "metadata": {},
   "source": [
    "15) Faça um Programa que pergunte quanto você ganha por hora e o número de horas trabalhadas no mês. Calcule e mostre o total do seu salário no referido mês, sabendo-se que são descontados 11% para o Imposto de Renda, 8% para o INSS e 5% para o sindicato, faça um programa que nos dê:\n",
    "- salário bruto.\n",
    "- quanto pagou ao INSS.\n",
    "- quanto pagou ao sindicato.\n",
    "- o salário líquido.\n",
    "- - calcule os descontos e o salário líquido, conforme a tabela abaixo:\n",
    "- (+) Salário Bruto : R$\n",
    "- (-) IR (11%) : R$\n",
    "- (-) INSS (8%) : R$\n",
    "- (-) Sindicato ( 5%) : R$\n",
    "- (=) Salário Liquido : R$\n",
    "- - Obs.: Salário Bruto - Descontos = Salário Líquido."
   ]
  },
  {
   "cell_type": "code",
   "execution_count": null,
   "metadata": {},
   "outputs": [],
   "source": [
    "salario_hora = float(input(\"Quanto vc ganha por hora? \"))\n",
    "numero_horas_trabalhadas = int(input(\"Quantas horas vc trabalhou? \"))\n",
    "salario_bruto = salario_hora * numero_horas_trabalhadas\n",
    "imposto_de_renda = salario_bruto * 0.11\n",
    "inss = salario_bruto * 0.08\n",
    "sindicato = salario_bruto * 0.05\n",
    "salario_liquido = salario_bruto - imposto_de_renda - inss - sindicato\n",
    "\n",
    "print(\"Salário bruto R$: \", salario_bruto)\n",
    "print(\"INSS: R$ \", inss)\n",
    "print(\"Sindicato R$: \", sindicato)\n",
    "print(\"Salário líquido: R$ \", salario_liquido)"
   ]
  },
  {
   "cell_type": "markdown",
   "metadata": {},
   "source": [
    "16) Faça um programa para uma loja de tintas. O programa deverá pedir o tamanho em metros quadrados da área a ser pintada. Considere que a cobertura da tinta é de 1 litro para cada 3 metros quadrados e que a tinta é vendida em latas de 18 litros, que custam R$ 80,00. Informe ao usuário a quantidades de latas de tinta a serem compradas e o preço total."
   ]
  },
  {
   "cell_type": "code",
   "execution_count": null,
   "metadata": {},
   "outputs": [],
   "source": [
    "area_pintada = float(input(\"Qual é o tamanho da área que será pintada em metros quadrados? \"))\n",
    "litros_de_tinta = area_pintada/3\n",
    "latas_de_tinta = litros_de_tinta/18\n",
    "\n",
    "import math\n",
    "arredondando_as_latas_para_cima = math.ceil(latas_de_tinta) #eu quero arredondar para cima pois não existe a possibilidade de comprar meia lata\n",
    "\n",
    "valor_pago = arredondando_as_latas_para_cima * 80\n",
    "\n",
    "print(\"Quantidade de latas: \", arredondando_as_latas_para_cima)\n",
    "print(\"O valor total é de R$ \", valor_pago)\n"
   ]
  },
  {
   "cell_type": "markdown",
   "metadata": {},
   "source": [
    "17) Faça um Programa para uma loja de tintas. O programa deverá pedir o tamanho em metros quadrados da área a ser pintada. Considere que a cobertura da tinta é de 1 litro para cada 6 metros quadrados e que a tinta é vendida em latas de 18 litros, que custam R$ 80,00 ou em galões de 3,6 litros, que custam R$ 25,00.\n",
    "Informe ao usuário as quantidades de tinta a serem compradas e os respectivos preços em 3 situações:\n",
    "- comprar apenas latas de 18 litros;\n",
    "- comprar apenas galões de 3,6 litros;\n",
    "- misturar latas e galões, de forma que o desperdício de tinta seja menor.\n",
    " - Acrescente 10% de folga e sempre arredonde os valores para cima, isto é, considere latas cheias."
   ]
  },
  {
   "cell_type": "code",
   "execution_count": null,
   "metadata": {},
   "outputs": [],
   "source": [
    "#SOLUCAO 1 - sem o uso de funcao\n",
    "\n",
    "tamanho_area_pintada = float(input(\"Qua é o tamanho em metros quadrados da área a ser pintada? \"))\n",
    "\n",
    "import math #como vou arredondar para cima, já importei o módulo math\n",
    "\n",
    "#Quantos litros de tinta serão gastos\n",
    "litros_tinta = 1.1*tamanho_area_pintada/6 #aumentei a quantidade de tinta em 10%, eu considerei a folga relacionada à quantidade total de tinta\n",
    "\n",
    "#Valor considerando a compra somente de latas de tinta de 18 litros\n",
    "latas_tinta = litros_tinta/18 \n",
    "latas_tinta_arredondada = math.ceil(latas_tinta) #latas de tinta de 18 litros, já arredondadas\n",
    "valor_latas_de_tinta = latas_tinta_arredondada * 80\n",
    "print(f\"Quantidade compra somente de latas de 18 litros: {latas_tinta_arredondada} latas.\" )\n",
    "print(f\"O valor total das latas será de {valor_latas_de_tinta} reais.\")\n",
    "\n",
    "#Valor considerando a compra somente de galões de tinra de 3.6 litros\n",
    "galao_tinta = litros_tinta/3.6 \n",
    "galao_tinta_arredondado = math.ceil(galao_tinta) #galao de tinta de 3.6 litros, já arredondado\n",
    "valor_galao_de_tinta = galao_tinta_arredondado * 25\n",
    "print(f\"Quantidade compra somente de galão de 3.6 litros: {galao_tinta_arredondado} galões.\" )\n",
    "print(f\"O valor total das latas será de {valor_galao_de_tinta} reais.\")\n",
    "\n",
    "#Valor considerando a compra misturada\n",
    "litros_sobrando = litros_tinta%18\n",
    "galoes_com_litro_sobrando = math.ceil(litros_sobrando/3.6)\n",
    "valor_total =  math.floor(latas_tinta) * 80 + galoes_com_litro_sobrando * 25\n",
    "print(f\"A quantidade da mistura é de {math.floor(latas_tinta)} latas de tinta e {galoes_com_litro_sobrando} galões.\") #math.floor para arredondar para baixo o valor das latas\n",
    "print(f\"O valor total será de {valor_total} reais.\")\n"
   ]
  },
  {
   "cell_type": "markdown",
   "metadata": {},
   "source": [
    "18) Faça um programa que peça o tamanho de um arquivo para download (em MB) e a velocidade de um link de Internet (em Mbps), calcule e informe o tempo aproximado de download do arquivo usando este link (em minutos)."
   ]
  },
  {
   "cell_type": "code",
   "execution_count": 1,
   "metadata": {},
   "outputs": [],
   "source": [
    "# Passo 1: Solicitar o tamanho do arquivo\n",
    "tamanho_arquivo_mb = float(input(\"Digite o tamanho do arquivo para download em MB: \"))\n",
    "\n",
    "# Passo 3: Solicitar ao usuário a velocidade do link \n",
    "velocidade_internet_mbps = float(input(\"Digite a velocidade do link de Internet em Mbps): \"))\n",
    "\n",
    "# Passo 3: Calcular o tempo aproximado de download do arquivo em segundos\n",
    "tempo_segundos = tamanho_arquivo_mb / (velocidade_internet_mbps / 8)\n",
    "\n",
    "# Passo 4: Converter segundo para minuto\n",
    "tempo_minutos = tempo_segundos / 60\n",
    "\n",
    "# Passo 5: Exibir o tempo aproximado de download em minutos\n",
    "print(f\"O tempo aproximado de download do arquivo é de: {tempo_minutos} minutos.\")"
   ]
  },
  {
   "cell_type": "markdown",
   "metadata": {},
   "source": []
  }
 ],
 "metadata": {
  "kernelspec": {
   "display_name": "Python 3",
   "language": "python",
   "name": "python3"
  },
  "language_info": {
   "codemirror_mode": {
    "name": "ipython",
    "version": 3
   },
   "file_extension": ".py",
   "mimetype": "text/x-python",
   "name": "python",
   "nbconvert_exporter": "python",
   "pygments_lexer": "ipython3",
   "version": "3.9.6"
  }
 },
 "nbformat": 4,
 "nbformat_minor": 2
}
