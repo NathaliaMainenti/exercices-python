{
 "cells": [
  {
   "cell_type": "markdown",
   "metadata": {},
   "source": [
    "ESTRUTURA DE DECISÃO"
   ]
  },
  {
   "cell_type": "markdown",
   "metadata": {},
   "source": [
    "1) Faça um Programa que peça dois números e imprima o maior deles."
   ]
  },
  {
   "cell_type": "code",
   "execution_count": null,
   "metadata": {},
   "outputs": [],
   "source": [
    "numero_1 = int(input(\"Insira o primeiro número: \"))\n",
    "numero_2 = int(input(\"Insira o segundo número: \"))\n",
    "\n",
    "if numero_1 > numero_2:\n",
    "    print(f'O número {numero_1} é maior.')\n",
    "elif numero_1 == numero_2:\n",
    "    print(f'Os números são iguais.')\n",
    "else:\n",
    "    print(f'O número {numero_2} é o maior.')\n"
   ]
  },
  {
   "cell_type": "markdown",
   "metadata": {},
   "source": [
    "2) Faça um Programa que peça um valor e mostre na tela se o valor é positivo ou negativo."
   ]
  },
  {
   "cell_type": "code",
   "execution_count": null,
   "metadata": {},
   "outputs": [],
   "source": [
    "valor_inserido = float(input(\"Insira um valor: \"))\n",
    "\n",
    "if valor_inserido > 0:\n",
    "    print(f'O valor inserido é positivo.')\n",
    "elif valor_inserido == 0:\n",
    "    print(f'O valor inserido é neutro.')\n",
    "else:\n",
    "    print(f'O valor inserido é negativo.')"
   ]
  },
  {
   "cell_type": "markdown",
   "metadata": {},
   "source": [
    "3) Faça um Programa que verifique se uma letra digitada é \"F\" ou \"M\". Conforme a letra escrever: F - Feminino, M - Masculino, Sexo Inválido."
   ]
  },
  {
   "cell_type": "code",
   "execution_count": null,
   "metadata": {},
   "outputs": [],
   "source": [
    "letra_digitada = str(input(\"Insira uma letra para saber o sexo: \"))\n",
    "\n",
    "if letra_digitada == 'F' or letra_digitada == 'f': #case sensitive \n",
    "    print(\"Feminino.\")\n",
    "elif letra_digitada == 'M' or letra_digitada == 'm': #idem\n",
    "    print(\"Masculino.\")\n",
    "else:\n",
    "    print(\"Sexo Inválido.\")"
   ]
  },
  {
   "cell_type": "markdown",
   "metadata": {},
   "source": [
    "4) Faça um Programa que verifique se uma letra digitada é vogal ou consoante."
   ]
  },
  {
   "cell_type": "code",
   "execution_count": null,
   "metadata": {},
   "outputs": [],
   "source": [
    "insira_letra = str(input(\"Insira uma letra: \"))\n",
    "\n",
    "\n",
    "if insira_letra in ['a', 'e', 'i', 'o', 'u']: #verificando se é uma vogal\n",
    "    print(f'A letra é uma vogal.')\n",
    "elif len(insira_letra) > 1: #Se tiver mais de um carácter, o programa não identificará letra nem consoante\n",
    "    print(f'Foi insirida mais de uma letra.')\n",
    "elif insira_letra in ['b', 'c', 'd', 'f', 'g', 'h', 'j', 'l', 'm', 'n', 'p', 'q', 'r', 's', 't', 'v', 'x', 'w', 'y','z']: #Consoante\n",
    "    print(f'A letra é uma consoante.')\n",
    "else:\n",
    "    print(f'Não foi inserida letra alguma.') #Qualquer outro carácter"
   ]
  },
  {
   "cell_type": "markdown",
   "metadata": {},
   "source": [
    "5) Faça um programa para a leitura de duas notas parciais de um aluno. O programa deve calcular a média alcançada por aluno e apresentar:\n",
    "A mensagem \"Aprovado\", se a média alcançada for maior ou igual a sete;\n",
    "A mensagem \"Reprovado\", se a média for menor do que sete;\n",
    "A mensagem \"Aprovado com Distinção\", se a média for igual a dez.\n"
   ]
  },
  {
   "cell_type": "code",
   "execution_count": null,
   "metadata": {},
   "outputs": [],
   "source": [
    "nota_1 = float(input(\"Insira a primeira nota: \"))\n",
    "nota_2 = float(input(\"Insira a segunda nota: \"))\n",
    "media = (nota_1+nota_2) / 2\n",
    "\n",
    "if media == 10:\n",
    "    print(\"Aprovado com Distinção.\")\n",
    "elif media >= 7:\n",
    "    print(\"Aprovado. \")\n",
    "else:\n",
    "    print(\"Reprovado.\")"
   ]
  },
  {
   "cell_type": "markdown",
   "metadata": {},
   "source": [
    "6) Faça um Programa que leia três números e mostre o maior deles.\n"
   ]
  },
  {
   "cell_type": "code",
   "execution_count": null,
   "metadata": {},
   "outputs": [],
   "source": [
    "# SOLUÇÃO 1\n",
    "\n",
    "# Inserindo os números\n",
    "\n",
    "num_1 = int(input(\"Insira o primeiro número: \"))\n",
    "num_2 = int(input(\"Insira o segundo número: \"))\n",
    "num_3 = int(input(\"Insira o terceiro número: \"))\n",
    "\n",
    "# Estou supondo que os números são diferentes entre si.\n",
    "\n",
    "if num_1 > num_2 and num_1 > num_3:\n",
    "    print(f'O número {num_1} é o maior.')\n",
    "\n",
    "elif num_2 > num_1 and num_2 > num_3:\n",
    "    print(f'O número {num_2} é o maior.')\n",
    "\n",
    "else:\n",
    "    print(f'O número {num_3} é o maior.')\n"
   ]
  },
  {
   "cell_type": "code",
   "execution_count": null,
   "metadata": {},
   "outputs": [],
   "source": [
    "# SOLUÇÃO 2\n",
    "\n",
    "num_1 = int(input(\"Insira o primeiro número: \"))\n",
    "num_2 = int(input(\"Insira o segundo número: \"))\n",
    "num_3 = int(input(\"Insira o terceiro número: \"))\n",
    "\n",
    "#Usando função fica melhor, pois os números podem ser iguais entre si, caso eu use a resolução sem função, eu teria que colocar mais elifs acima, com isso, poderíamos ter números iguais entre si\n",
    "def maior(num_1, num_2, num_3):\n",
    "    if  num_1 >= num_2 and num_1 >= num_3:\n",
    "        return num_1\n",
    "    if  num_2 >= num_1 and num_2 >= num_3:\n",
    "        return num_2\n",
    "    if  num_3 >= num_1 and num_3 >= num_2:\n",
    "        return num_3\n",
    "\n",
    "maior_numero = maior(num_1, num_2, num_3)\n",
    "\n",
    "print(f'O número maior é o {maior_numero}')"
   ]
  },
  {
   "cell_type": "markdown",
   "metadata": {},
   "source": [
    "7) Faça um Programa que leia três números e mostre o maior e o menor deles.\n"
   ]
  },
  {
   "cell_type": "code",
   "execution_count": null,
   "metadata": {},
   "outputs": [],
   "source": [
    "# Farei usando função como no exemplo anterior\n",
    "\n",
    "# Passo 1: Inserir os números\n",
    "\n",
    "num_1 = int(input(\"Insira o primeiro número: \"))\n",
    "num_2 = int(input(\"Insira o segundo número: \"))\n",
    "num_3 = int(input(\"Insira o terceiro número: \"))\n",
    "\n",
    "# Passo 2: Achar o maior\n",
    "\n",
    "def maior(num_1, num_2, num_3):\n",
    "    if  num_1 >= num_2 and num_1 >= num_3:\n",
    "        return num_1\n",
    "    if  num_2 >= num_1 and num_2 >= num_3:\n",
    "        return num_2\n",
    "    if  num_3 >= num_1 and num_3 >= num_2:\n",
    "        return num_3\n",
    "\n",
    "maior_numero = maior(num_1, num_2, num_3) #artibuido o valor maior à variável maior_numero\n",
    "\n",
    "# Passo 3: Achar o menor\n",
    "\n",
    "def menor(num_1, num_2, num_3):\n",
    "    if  num_1 <= num_2 and num_1 <= num_3:\n",
    "        return num_1\n",
    "    if  num_2 <= num_1 and num_2 <= num_3:\n",
    "        return num_2\n",
    "    if  num_3 <= num_1 and num_3 <= num_2:\n",
    "        return num_3\n",
    "\n",
    "menor_numero = menor(num_1, num_2, num_3) #artibuido o valor menor à variável menor_numero\n",
    "\n",
    "\n",
    "# Passo 4: Imprimindo os valores\n",
    "\n",
    "print(f'O número maior é o {maior_numero}')\n",
    "print(f'O número menor é o {menor_numero}')\n",
    "\n"
   ]
  }
 ],
 "metadata": {
  "language_info": {
   "name": "python"
  }
 },
 "nbformat": 4,
 "nbformat_minor": 2
}
